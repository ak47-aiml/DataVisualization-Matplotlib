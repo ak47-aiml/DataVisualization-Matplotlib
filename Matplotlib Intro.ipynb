{
 "cells": [
  {
   "cell_type": "markdown",
   "metadata": {},
   "source": [
    "# Matplotlib Intro"
   ]
  },
  {
   "cell_type": "markdown",
   "metadata": {},
   "source": [
    "<font color='steelblue'>\n",
    "\n",
    "<font size = 5>\n",
    "    \n",
    "**Examples of using Matplot library**<br><br>\n",
    "</font>\n",
    "<font size = 4>\n",
    "    <b>Following examples are included in the processing:</b>\n",
    "    <ol>\n",
    "        <li>Figures and Axes</li>\n",
    "        <li>Line Plots</li>\n",
    "        <li>Scatter Plots</li>\n",
    "        <li>Histograms</li>\n",
    "        <li>Pie Charts</li>\n",
    "        <li>Pair Plots</li>\n",
    "        <li>Plotting using seaborn library</li>\n",
    "        <li>Time Series Data Plotting</li>\n",
    "    </ol>    \n",
    "</font>\n",
    "</font>"
   ]
  },
  {
   "cell_type": "markdown",
   "metadata": {},
   "source": [
    "# Check PySpark Set Up"
   ]
  },
  {
   "cell_type": "code",
   "execution_count": null,
   "metadata": {},
   "outputs": [],
   "source": [
    "import findspark\n",
    "findspark.init()"
   ]
  },
  {
   "cell_type": "code",
   "execution_count": null,
   "metadata": {},
   "outputs": [],
   "source": [
    "from pyspark.sql import SparkSession\n",
    "spark = SparkSession.builder.appName(\"Matplotlib Demo\").getOrCreate()\n",
    "sc = spark.sparkContext\n",
    "sc.setLogLevel(\"Error\")"
   ]
  },
  {
   "cell_type": "code",
   "execution_count": null,
   "metadata": {},
   "outputs": [],
   "source": [
    "!python --version"
   ]
  },
  {
   "cell_type": "code",
   "execution_count": null,
   "metadata": {},
   "outputs": [],
   "source": [
    "!pyspark --version"
   ]
  },
  {
   "cell_type": "code",
   "execution_count": null,
   "metadata": {},
   "outputs": [],
   "source": [
    "import numpy as np\n",
    "import pandas as pd\n",
    "import matplotlib.pyplot as plt\n",
    "\n",
    "# embed the plots in notebook\n",
    "#%matplotlib inline%\n",
    "\n",
    "# Use either of these lines for grids or no grids\n",
    "#plt.style.use('seaborn-whitegrid')    # grids in the plots\n",
    "#plt.style.use('seaborn-white')       # no grids in plots\n",
    "\n",
    "# suppress warnings\n",
    "import warnings\n",
    "warnings.filterwarnings('ignore')"
   ]
  },
  {
   "cell_type": "markdown",
   "metadata": {},
   "source": [
    "## Figures and Axes"
   ]
  },
  {
   "cell_type": "code",
   "execution_count": null,
   "metadata": {},
   "outputs": [],
   "source": [
    "# Figure and axes\n",
    "fig = plt.figure()\n",
    "ax = plt.axes()"
   ]
  },
  {
   "cell_type": "code",
   "execution_count": null,
   "metadata": {},
   "outputs": [],
   "source": [
    "# Another way\n",
    "fig, ax = plt.subplots()  "
   ]
  },
  {
   "cell_type": "markdown",
   "metadata": {},
   "source": [
    "## Line Plots"
   ]
  },
  {
   "cell_type": "code",
   "execution_count": null,
   "metadata": {},
   "outputs": [],
   "source": [
    "x = np.linspace(0, 10, 100)\n",
    "x"
   ]
  },
  {
   "cell_type": "code",
   "execution_count": null,
   "metadata": {},
   "outputs": [],
   "source": [
    "# Take cosine and sine of x\n",
    "y1, y2 = np.cos(x), np.sin(x)\n",
    "fig, ax = plt.subplots()\n",
    "ax.plot(x, y1)\n",
    "ax.plot(x, y2)"
   ]
  },
  {
   "cell_type": "code",
   "execution_count": null,
   "metadata": {},
   "outputs": [],
   "source": [
    "# with show called on plt\n",
    "y1, y2 = np.cos(x), np.sin(x)\n",
    "fig, ax = plt.subplots()\n",
    "ax.plot(x, y1)\n",
    "ax.plot(x, y2)\n",
    "plt.show()"
   ]
  },
  {
   "cell_type": "code",
   "execution_count": null,
   "metadata": {},
   "outputs": [],
   "source": [
    "# Stack Graphs vertically (defining 2 rows for plot)\n",
    "# Use semi-colon in the last statement (equivalent as plt.show())\n",
    "fig, axes = plt.subplots(2)\n",
    "axes[0].plot(x, y1)\n",
    "axes[1].plot(x, y2);"
   ]
  },
  {
   "cell_type": "code",
   "execution_count": null,
   "metadata": {},
   "outputs": [],
   "source": [
    "# Stack Graphs horizontally (1 row, 2 columns, and change figure size)\n",
    "fig, axes = plt.subplots(1,2, figsize=(22,4))\n",
    "\n",
    "axes[0].plot(x, y1)\n",
    "axes[1].plot(x, y2, color = 'orange')\n",
    "plt.show()"
   ]
  },
  {
   "cell_type": "markdown",
   "metadata": {},
   "source": [
    "## Scatter Plots"
   ]
  },
  {
   "cell_type": "code",
   "execution_count": null,
   "metadata": {},
   "outputs": [],
   "source": [
    "x = np.random.rand(30)\n",
    "y = np.random.rand(30)\n",
    "x, y"
   ]
  },
  {
   "cell_type": "code",
   "execution_count": null,
   "metadata": {},
   "outputs": [],
   "source": [
    "# s is marker size in points\n",
    "# alpha is intensity of the marker o for transparent and 1 for opaque\n",
    "plt.scatter(x, y, marker='o', color = 'red', s = 200, alpha=.4)\n",
    "plt.title(\"scatter plot\")\n",
    "plt.show()"
   ]
  },
  {
   "cell_type": "markdown",
   "metadata": {},
   "source": [
    "<font size = 4>\n",
    "    \n",
    "Try changing the `aplha` and the `s` on the above code and execute the cell\n",
    "    \n",
    "</font>"
   ]
  },
  {
   "cell_type": "code",
   "execution_count": null,
   "metadata": {},
   "outputs": [],
   "source": [
    "# get iris_data\n",
    "iris_data = pd.read_csv(\"../datasets/iris.csv\", \n",
    "                        names = [\"sepal_l\", \"sepal_w\", \"petal_l\", \\\n",
    "                                 \"petal_w\", \"class\"])\n",
    "\n",
    "# Transform categorical 'class' to integers\n",
    "iris_data['class'] = iris_data['class'].map({\"Iris-setosa\":0, \\\n",
    "                                             'Iris-versicolor':1, \\\n",
    "                                             'Iris-virginica': 2})\n",
    "iris_data.head()"
   ]
  },
  {
   "cell_type": "code",
   "execution_count": null,
   "metadata": {},
   "outputs": [],
   "source": [
    "# cmap is Colormap magma\n",
    "# c is use the different colors for types of flowers\n",
    "plt.figure(figsize = (6,5))\n",
    "plt.scatter(iris_data['sepal_l'], iris_data['sepal_w'], alpha=0.8,\n",
    "            s=200, c=iris_data['class'], cmap='magma')\n",
    "\n",
    "plt.xlabel('sepal_l')\n",
    "plt.ylabel(\"sepal_w\")\n",
    "plt.title(\"Sepal Length v/s Sepal Width\")\n",
    "plt.show()"
   ]
  },
  {
   "cell_type": "code",
   "execution_count": null,
   "metadata": {},
   "outputs": [],
   "source": [
    "# Another way of plotting the above graph\n",
    "fig, ax = plt.subplots(figsize = (10, 8))\n",
    "ax.scatter(iris_data['sepal_l'], iris_data['sepal_w'], alpha=.7,\n",
    "           s = 200, c = iris_data[\"class\"],  cmap='cividis')\n",
    "\n",
    "# more convenient way of setting properties\n",
    "ax.set(title=\"Iris Data\", xlabel='sepal_l', ylabel=\"sepal_w\")\n",
    "\n",
    "plt.show()"
   ]
  },
  {
   "cell_type": "code",
   "execution_count": null,
   "metadata": {},
   "outputs": [],
   "source": [
    "# Define multiple scatter plots and provide legend\n",
    "fig, ax = plt.subplots(figsize = (9, 8))\n",
    "\n",
    "ax.scatter(iris_data.loc[:49, 'sepal_l'], iris_data.loc[:49,'sepal_w'],\\\n",
    "           s = 200, c = 'r', alpha=.5, label='Iris-setosa')\n",
    "\n",
    "ax.scatter(iris_data.loc[49:99, 'sepal_l'], iris_data.loc[49:99,'sepal_w'], \\\n",
    "           s = 200, c = 'blue', alpha=.5, label='Iris-versicolor')\n",
    "\n",
    "ax.scatter(iris_data.loc[99:, 'sepal_l'], iris_data.loc[99:,'sepal_w'], \\\n",
    "           s = 200, c = 'green', alpha=.5, label='Iris-virginica')\n",
    "\n",
    "# more convenient way of setting properties\n",
    "ax.set(title=\"Iris Data\", xlabel='sepal_l', ylabel=\"sepal_w\")\n",
    "ax.legend()\n",
    "\n",
    "plt.show()"
   ]
  },
  {
   "cell_type": "markdown",
   "metadata": {},
   "source": [
    "## Histogram"
   ]
  },
  {
   "cell_type": "code",
   "execution_count": null,
   "metadata": {},
   "outputs": [],
   "source": [
    "fig, ax = plt.subplots()\n",
    "#ax.hist(iris_data['sepal_l'], color = 'xkcd:lilac', edgecolor='black')\n",
    "ax.hist(iris_data['sepal_l'], color = 'lightgreen', edgecolor='black')\n",
    "ax.set_title(\"Histogram of Sepal Length\")\n",
    "ax.set_xlabel(\"Length (cms)\")\n",
    "ax.set_ylabel(\"Count\")\n",
    "plt.show()"
   ]
  },
  {
   "cell_type": "code",
   "execution_count": null,
   "metadata": {},
   "outputs": [],
   "source": [
    "# Plot histogram for each column and provide legend\n",
    "fig, ax = plt.subplots(figsize = ((12, 8)))\n",
    "ax.hist(iris_data['sepal_l'], alpha=.5, edgecolor='black')\n",
    "ax.hist(iris_data['sepal_w'], alpha=.5, edgecolor='black')\n",
    "ax.hist(iris_data['petal_l'], alpha=.5, edgecolor='black')\n",
    "ax.hist(iris_data['petal_w'], alpha=.5, edgecolor='black')\n",
    "ax.legend(['sepal_l', 'sepal_w', 'petal_l', 'petal_w'])\n",
    "ax.set_xlabel(\"Length (cms)\")\n",
    "ax.set_ylabel(\"Count\")\n",
    "plt.show()"
   ]
  },
  {
   "cell_type": "code",
   "execution_count": null,
   "metadata": {},
   "outputs": [],
   "source": [
    "iris_data.columns"
   ]
  },
  {
   "cell_type": "markdown",
   "metadata": {},
   "source": [
    "## Pair Plots"
   ]
  },
  {
   "cell_type": "code",
   "execution_count": null,
   "metadata": {},
   "outputs": [],
   "source": [
    "# Pair plotting\n",
    "features = [\"sepal_l\", \"sepal_w\", \"petal_l\", \"petal_w\"]\n",
    "pair_plot = pd.plotting.scatter_matrix(iris_data[features], figsize=(12, 8))"
   ]
  },
  {
   "cell_type": "markdown",
   "metadata": {},
   "source": [
    "## Pie Chart"
   ]
  },
  {
   "cell_type": "code",
   "execution_count": null,
   "metadata": {},
   "outputs": [],
   "source": [
    "fig, ax = plt.subplots(figsize = ((12, 8)))\n",
    "values = [12, 55, 4, 32, 14]\n",
    "colors = ['r', 'g', 'b', 'c', 'm']\n",
    "explode = [0, 0, 0.2, 0, 0]\n",
    "labels = ['India', 'USA', 'China', 'UK', 'Japan']\n",
    "plt.pie(values, colors = colors, labels = labels, explode = explode)\n",
    "plt.title('Students From');"
   ]
  },
  {
   "cell_type": "markdown",
   "metadata": {},
   "source": [
    "## [XKCD Style](https://matplotlib.org/stable/api/_as_gen/matplotlib.pyplot.xkcd.html)"
   ]
  },
  {
   "cell_type": "code",
   "execution_count": null,
   "metadata": {},
   "outputs": [],
   "source": [
    "plt.xkcd()\n",
    "fig = plt.figure(figsize = ((10, 6)))\n",
    "ax = fig.add_subplot(1, 1, 1)\n",
    "ax.spines['right'].set_color('none')\n",
    "ax.spines['top'].set_color('none')\n",
    "plt.xticks([])\n",
    "plt.yticks([])\n",
    "ax.set_ylim([-30, 10])\n",
    "\n",
    "data = np.ones(100)\n",
    "data[70:] -= np.arange(30)\n",
    "print(data)\n",
    "plt.annotate(\n",
    "    'LEARNT MACHINE LEARNING WITH SPARK AND SCI-KIT LEARN',\n",
    "    xy = (70,1), arrowprops=dict(arrowstyle='->', color='black'), xytext = (15, -10))\n",
    "\n",
    "plt.plot(data)\n",
    "plt.xlabel('Time')\n",
    "plt.ylabel('My Machine Learning');"
   ]
  },
  {
   "cell_type": "code",
   "execution_count": null,
   "metadata": {},
   "outputs": [],
   "source": [
    "# Remove the XKCD Mode\n",
    "plt.rcdefaults()"
   ]
  },
  {
   "cell_type": "markdown",
   "metadata": {},
   "source": [
    "## Seaborn library"
   ]
  },
  {
   "cell_type": "code",
   "execution_count": null,
   "metadata": {},
   "outputs": [],
   "source": [
    "# Another library to plot pairs (hue column for which to assign colors)\n",
    "# Useful when target variable is multi-class\n",
    "import seaborn as sns\n",
    "\n",
    "pair_plot = sns.pairplot(iris_data, hue='class')"
   ]
  },
  {
   "cell_type": "code",
   "execution_count": null,
   "metadata": {},
   "outputs": [],
   "source": [
    "# Transform integers back to categorical, set the style to dark and change the diagonal plots\n",
    "sns.set(style = \"dark\")\n",
    "iris_data['class'] = iris_data['class'].map({0:\"Iris-setosa\", \\\n",
    "                                             1:'Iris-versicolor', \\\n",
    "                                             2:'Iris-virginica'})\n",
    "pair_plot = sns.pairplot(iris_data, hue='class', diag_kind = 'hist')"
   ]
  },
  {
   "cell_type": "code",
   "execution_count": null,
   "metadata": {
    "scrolled": true
   },
   "outputs": [],
   "source": [
    "sns.set(style = \"dark\")\n",
    "pair_plot = sns.pairplot(iris_data, hue='class', markers = ['.', 'o', '^'])"
   ]
  },
  {
   "cell_type": "code",
   "execution_count": null,
   "metadata": {},
   "outputs": [],
   "source": [
    "# box and whisker plot\n",
    "plt.figure(figsize = (8, 4))\n",
    "sns.boxplot(data = iris_data, width = 0.6, fliersize = 5);"
   ]
  },
  {
   "cell_type": "code",
   "execution_count": null,
   "metadata": {},
   "outputs": [],
   "source": [
    "# Correlation\n",
    "corr = iris_data.corr()\n",
    "corr"
   ]
  },
  {
   "cell_type": "code",
   "execution_count": null,
   "metadata": {
    "scrolled": false
   },
   "outputs": [],
   "source": [
    "f, ax = plt.subplots(figsize=(8,6))\n",
    "sns.heatmap(corr, annot=True)\n",
    "plt.show()"
   ]
  },
  {
   "cell_type": "markdown",
   "metadata": {},
   "source": [
    "<font color='gray'>\n",
    "<font size = 4>\n",
    "    <b>Heatmap and Color Palette</b>\n",
    "    <br>\n",
    "    \n",
    "[Color Palette](https://seaborn.pydata.org/generated/seaborn.diverging_palette.html)\n",
    "\n",
    "[Seaborn Heatmap](https://seaborn.pydata.org/generated/seaborn.heatmap.html)\n",
    "</font>\n",
    "</font>"
   ]
  },
  {
   "cell_type": "code",
   "execution_count": null,
   "metadata": {},
   "outputs": [],
   "source": [
    "sns.palplot(sns.diverging_palette(240, 10, n=9))"
   ]
  },
  {
   "cell_type": "code",
   "execution_count": null,
   "metadata": {},
   "outputs": [],
   "source": [
    "sns.set(font_scale=1.4)\n",
    "f, ax = plt.subplots(figsize=(8,6))\n",
    "cmap = sns.diverging_palette(240, 10, as_cmap=True)\n",
    "\n",
    "# Draw the heatmap with the mask and correct aspect ratio\n",
    "sns.heatmap(corr, cmap=cmap, vmax=.3, center=0,\n",
    "            square=True, linewidths=.5, cbar_kws={\"shrink\": .5}, annot = True)\n",
    "plt.show()"
   ]
  },
  {
   "cell_type": "markdown",
   "metadata": {},
   "source": [
    "<font color='gray'>\n",
    "<font size = 5>\n",
    "    \n",
    "**Time Series Data Plotting**\n",
    "    \n",
    "</font>\n",
    "</font>\n",
    "<br>\n",
    "\n",
    "<font size = 3>\n",
    "\n",
    "- Plot stocks `opening data`\n",
    "- Plot `2 days mean` open values for certain company\n",
    "- Plot `bi-weekly mean` open values for certain company\n",
    "- Use a `certain days window` to plot open values\n",
    "</font>\n"
   ]
  },
  {
   "cell_type": "code",
   "execution_count": null,
   "metadata": {},
   "outputs": [],
   "source": [
    "stocks = pd.read_csv('../datasets/stocks.csv', index_col = 'Date', parse_dates = ['Date'])"
   ]
  },
  {
   "cell_type": "code",
   "execution_count": null,
   "metadata": {},
   "outputs": [],
   "source": [
    "stocks.head()"
   ]
  },
  {
   "cell_type": "code",
   "execution_count": null,
   "metadata": {},
   "outputs": [],
   "source": [
    "stocks['Company'].unique()"
   ]
  },
  {
   "cell_type": "markdown",
   "metadata": {},
   "source": [
    "## Dataframes for each company"
   ]
  },
  {
   "cell_type": "code",
   "execution_count": null,
   "metadata": {},
   "outputs": [],
   "source": [
    "amzn = stocks.query('Company == \"AMZN\"')"
   ]
  },
  {
   "cell_type": "code",
   "execution_count": null,
   "metadata": {},
   "outputs": [],
   "source": [
    "apple = stocks.query('Company == \"AAPL\"')"
   ]
  },
  {
   "cell_type": "code",
   "execution_count": null,
   "metadata": {},
   "outputs": [],
   "source": [
    "facebook = stocks.query('Company == \"FB\"')"
   ]
  },
  {
   "cell_type": "code",
   "execution_count": null,
   "metadata": {},
   "outputs": [],
   "source": [
    "sbucks = stocks.query('Company == \"SBUX\"')"
   ]
  },
  {
   "cell_type": "code",
   "execution_count": null,
   "metadata": {},
   "outputs": [],
   "source": [
    "tesla = stocks.query('Company == \"TSLA\"')"
   ]
  },
  {
   "cell_type": "code",
   "execution_count": null,
   "metadata": {},
   "outputs": [],
   "source": [
    "# Plot dataframes\n",
    "plt.subplots(figsize = [10, 8])\n",
    "apple.Open.plot()\n",
    "amzn.Open.plot()\n",
    "facebook.Open.plot()\n",
    "sbucks.Open.plot()\n",
    "tesla.Open.plot()\n",
    "plt.legend([\"Apple\", \"Amazon\", \"Facebook\", \"Star Bucks\", \"Tesla\"])\n",
    "plt.show()"
   ]
  },
  {
   "cell_type": "code",
   "execution_count": null,
   "metadata": {},
   "outputs": [],
   "source": [
    "# Sample data from 2 days\n",
    "amzn[\"Open\"].resample(\"2D\").apply([np.mean]).plot()\n",
    "plt.title(\"Amazon Open 2 days mean \")\n",
    "plt.ylabel(\"Amazon Open\")\n",
    "plt.show()"
   ]
  },
  {
   "cell_type": "code",
   "execution_count": null,
   "metadata": {},
   "outputs": [],
   "source": [
    "# Sample bi-weekly data\n",
    "amzn[\"Open\"].resample(\"B\").apply([np.mean]).plot()\n",
    "plt.title(\"Amazon bi-weekly mean\")\n",
    "plt.ylabel(\"Amazon Open\")\n",
    "plt.show()"
   ]
  },
  {
   "cell_type": "code",
   "execution_count": null,
   "metadata": {},
   "outputs": [],
   "source": [
    "# create a pandas series object for amazon open\n",
    "amznOpen = stocks.loc[stocks[\"Company\"] == 'AMZN', \"Open\"]"
   ]
  },
  {
   "cell_type": "code",
   "execution_count": null,
   "metadata": {},
   "outputs": [],
   "source": [
    "amznOpen.head(2)"
   ]
  },
  {
   "cell_type": "code",
   "execution_count": null,
   "metadata": {},
   "outputs": [],
   "source": [
    "# Window based plotting\n",
    "pd.Series.rolling(amznOpen, window=25).mean().plot(style=\"-g\")\n",
    "plt.title(\"Amazon Open Mean 25 day window\")\n",
    "plt.ylabel(\"Amazon Open\")\n",
    "plt.show()"
   ]
  },
  {
   "cell_type": "code",
   "execution_count": null,
   "metadata": {},
   "outputs": [],
   "source": [
    "# Window based plotting\n",
    "pd.Series.rolling(amznOpen, window=25).mean().plot(style=\"-g\")\n",
    "plt.title(\"Amazon Open Mean 25 day window\")\n",
    "plt.ylabel(\"Amazon Open\")\n",
    "plt.savefig(\"AMZN-25.png\")"
   ]
  }
 ],
 "metadata": {
  "kernelspec": {
   "display_name": "Python 3 (ipykernel)",
   "language": "python",
   "name": "python3"
  },
  "language_info": {
   "codemirror_mode": {
    "name": "ipython",
    "version": 3
   },
   "file_extension": ".py",
   "mimetype": "text/x-python",
   "name": "python",
   "nbconvert_exporter": "python",
   "pygments_lexer": "ipython3",
   "version": "3.9.13"
  },
  "toc": {
   "base_numbering": 1,
   "nav_menu": {},
   "number_sections": false,
   "sideBar": true,
   "skip_h1_title": false,
   "title_cell": "Table of Contents",
   "title_sidebar": "Contents",
   "toc_cell": false,
   "toc_position": {},
   "toc_section_display": true,
   "toc_window_display": false
  }
 },
 "nbformat": 4,
 "nbformat_minor": 4
}
